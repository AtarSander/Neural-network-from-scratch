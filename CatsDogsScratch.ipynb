{
 "cells": [
  {
   "cell_type": "code",
   "execution_count": 89,
   "metadata": {},
   "outputs": [],
   "source": [
    "import matplotlib.pyplot as plt\n",
    "import numpy as np\n",
    "import os\n",
    "import cv2\n",
    "NUM_PX = 64\n",
    "LAYER_DIMS = [12288, 9, 1] "
   ]
  },
  {
   "cell_type": "code",
   "execution_count": 90,
   "metadata": {},
   "outputs": [
    {
     "name": "stdout",
     "output_type": "stream",
     "text": [
      "The autoreload extension is already loaded. To reload it, use:\n",
      "  %reload_ext autoreload\n"
     ]
    }
   ],
   "source": [
    "%matplotlib inline\n",
    "plt.rcParams['figure.figsize'] = (5.0, 4.0) # set default size of plots\n",
    "plt.rcParams['image.interpolation'] = 'nearest'\n",
    "plt.rcParams['image.cmap'] = 'gray'\n",
    "\n",
    "%load_ext autoreload\n",
    "%autoreload 2\n"
   ]
  },
  {
   "cell_type": "code",
   "execution_count": 91,
   "metadata": {},
   "outputs": [],
   "source": [
    "def delete_zone_identifier(filenames, directory):\n",
    "    for filename in filenames:\n",
    "        try:\n",
    "            name = filename.split(\":\")[1]\n",
    "        except:\n",
    "            name = \"\"\n",
    "        if name == \"Zone.Identifier\":\n",
    "            os.remove(directory + \"/\" + filename)"
   ]
  },
  {
   "cell_type": "code",
   "execution_count": 92,
   "metadata": {},
   "outputs": [],
   "source": [
    "filenames_train = os.listdir(\"train/train\")\n",
    "delete_zone_identifier(filenames_train, \"train/train\")\n",
    "filenames_test = os.listdir(\"test1/test1\")\n",
    "delete_zone_identifier(filenames_test, \"test1/test1\")"
   ]
  },
  {
   "cell_type": "code",
   "execution_count": 93,
   "metadata": {},
   "outputs": [],
   "source": [
    "def preprocess_image(file_path, target_size):\n",
    "    image = cv2.imread(file_path)\n",
    "    image = cv2.resize(image, target_size)\n",
    "    image = np.array(image, dtype=np.float32)\n",
    "    image = image / 255.0\n",
    "    return image"
   ]
  },
  {
   "cell_type": "code",
   "execution_count": 94,
   "metadata": {},
   "outputs": [],
   "source": [
    "def parse_images(filenames, directory, limit_dogs, limit_cats):\n",
    "    for filename in filenames:\n",
    "        category = filename.split('.')[0]\n",
    "        if category == \"dog\":\n",
    "            limit_dogs -= 1\n",
    "            if limit_dogs < 0:\n",
    "                os.remove(directory + \"/\" + filename)\n",
    "        else:\n",
    "            limit_cats -= 1\n",
    "            if limit_cats < 0:\n",
    "                os.remove(directory + \"/\" + filename)"
   ]
  },
  {
   "cell_type": "code",
   "execution_count": 95,
   "metadata": {},
   "outputs": [],
   "source": [
    "filenames_train = os.listdir(\"train/train\")\n",
    "parse_images(filenames_train, \"train/train\", 500, 500)\n",
    "filenames_test = os.listdir(\"test1/test1\")\n",
    "parse_images(filenames_test, \"test1/test1\", 100, 100)"
   ]
  },
  {
   "cell_type": "code",
   "execution_count": 96,
   "metadata": {},
   "outputs": [],
   "source": [
    "def load_dataset(filenames, path, spliter, test=\"dog\"):\n",
    "    images = []\n",
    "    labels = []\n",
    "    for filename in filenames:\n",
    "        image = preprocess_image(path + filename, (64, 64))\n",
    "        images.append(image)\n",
    "        category = filename.split(spliter)[0]\n",
    "        if category == test:\n",
    "            labels.append(1)\n",
    "        else:\n",
    "            labels.append(0)\n",
    "    return np.array(images), np.array(labels)"
   ]
  },
  {
   "cell_type": "code",
   "execution_count": 97,
   "metadata": {},
   "outputs": [],
   "source": [
    "filenames = os.listdir(\"train/train\")\n",
    "train_set_x_orig, train_set_y = load_dataset(filenames_train, \"train/train/\", '.')\n",
    "filenames = os.listdir(\"test1/test1\")\n",
    "test_set_x_orig, test_set_y = load_dataset(filenames_test, \"test1/test1/\", '_', '1')"
   ]
  },
  {
   "cell_type": "code",
   "execution_count": 98,
   "metadata": {},
   "outputs": [],
   "source": [
    "train_set_x = train_set_x_orig.reshape(train_set_x_orig.shape[0], -1).T\n",
    "train_set_y = train_set_y.reshape(1, train_set_y.shape[0])"
   ]
  },
  {
   "cell_type": "code",
   "execution_count": 99,
   "metadata": {},
   "outputs": [
    {
     "data": {
      "text/plain": [
       "((12288, 1000), (1, 1000))"
      ]
     },
     "execution_count": 99,
     "metadata": {},
     "output_type": "execute_result"
    }
   ],
   "source": [
    "train_set_x.shape, train_set_y.shape"
   ]
  },
  {
   "cell_type": "code",
   "execution_count": 100,
   "metadata": {},
   "outputs": [
    {
     "data": {
      "text/plain": [
       "((99, 64, 64, 3), (99,))"
      ]
     },
     "execution_count": 100,
     "metadata": {},
     "output_type": "execute_result"
    }
   ],
   "source": [
    "test_set_x_orig.shape, test_set_y.shape"
   ]
  },
  {
   "cell_type": "code",
   "execution_count": 101,
   "metadata": {},
   "outputs": [],
   "source": [
    "test_set_x = test_set_x_orig.reshape(test_set_x_orig.shape[0], -1).T\n",
    "test_set_y = test_set_y.reshape(1, test_set_y.shape[0])"
   ]
  },
  {
   "cell_type": "code",
   "execution_count": 102,
   "metadata": {},
   "outputs": [],
   "source": [
    "def initialize_parameters(layer_dims):\n",
    "    np.random.seed(2)\n",
    "    parameters = {}\n",
    "    L = len(layer_dims)\n",
    "\n",
    "    for l in range(1, L):\n",
    "        parameters['W' + str(l)] = np.random.randn(layer_dims[l], layer_dims[l-1]) * 0.01\n",
    "        parameters['b' + str(l)] = np.zeros((layer_dims[l], 1))\n",
    "        \n",
    "    return parameters"
   ]
  },
  {
   "cell_type": "code",
   "execution_count": 103,
   "metadata": {},
   "outputs": [
    {
     "name": "stdout",
     "output_type": "stream",
     "text": [
      "{'W1': array([[-0.00416758, -0.00056267, -0.02136196, ..., -0.01275513,\n",
      "         0.00733372,  0.01166127],\n",
      "       [ 0.00016076,  0.00699494, -0.02144254, ..., -0.00569705,\n",
      "        -0.00276633,  0.0011016 ],\n",
      "       [-0.00553107,  0.00678748, -0.00870469, ...,  0.00174631,\n",
      "         0.00395599, -0.00136441],\n",
      "       ...,\n",
      "       [ 0.00591403,  0.00618356, -0.00613118, ..., -0.00702644,\n",
      "         0.00597732,  0.00226512],\n",
      "       [ 0.00137381,  0.00531559, -0.00411322, ...,  0.00274936,\n",
      "         0.02391327, -0.00872727],\n",
      "       [-0.01886398, -0.00101521,  0.00443469, ...,  0.00105953,\n",
      "         0.0073419 ,  0.00461946]]), 'b1': array([[0.],\n",
      "       [0.],\n",
      "       [0.],\n",
      "       [0.],\n",
      "       [0.],\n",
      "       [0.],\n",
      "       [0.],\n",
      "       [0.],\n",
      "       [0.]]), 'W2': array([[-0.01062171, -0.00365029, -0.00166228,  0.00677657,  0.00118906,\n",
      "        -0.01334242, -0.00662981,  0.00053144,  0.00842811]]), 'b2': array([[0.]])}\n"
     ]
    }
   ],
   "source": [
    "parameters = initialize_parameters(LAYER_DIMS)\n",
    "print(parameters)"
   ]
  },
  {
   "cell_type": "code",
   "execution_count": 104,
   "metadata": {},
   "outputs": [],
   "source": [
    "def relu(Z):\n",
    "    cache = Z\n",
    "    A = np.maximum(0, Z)\n",
    "    return A, cache"
   ]
  },
  {
   "cell_type": "code",
   "execution_count": 105,
   "metadata": {},
   "outputs": [],
   "source": [
    "def sigmoid(Z):\n",
    "    cache = Z\n",
    "    A = 1 / (1 + np.exp(-Z))\n",
    "    return A, cache"
   ]
  },
  {
   "cell_type": "code",
   "execution_count": 106,
   "metadata": {},
   "outputs": [],
   "source": [
    "def linear_forward(A, W, b):\n",
    "    Z = np.matmul(W, A) + b\n",
    "    cache = (A, W, b)\n",
    "    return Z, cache"
   ]
  },
  {
   "cell_type": "code",
   "execution_count": 107,
   "metadata": {},
   "outputs": [],
   "source": [
    "def linear_activation_forward(prev_A, W, b, activation_function):\n",
    "    if activation_function == \"relu\":\n",
    "        Z, linear_cache = linear_forward(prev_A, W, b)\n",
    "        A, activation_cache = relu(Z)\n",
    "\n",
    "    elif activation_function == \"sigmoid\":\n",
    "        Z, linear_cache = linear_forward(prev_A, W, b)\n",
    "        A, activation_cache = sigmoid(Z)\n",
    "    cache = (linear_cache, activation_cache)\n",
    "    \n",
    "    return A, cache"
   ]
  },
  {
   "cell_type": "code",
   "execution_count": 108,
   "metadata": {},
   "outputs": [],
   "source": [
    "def forward_propagation(X, parameters):\n",
    "    caches = []\n",
    "    L = len(parameters) //2\n",
    "    A = X\n",
    "\n",
    "    for l in range(1, L):\n",
    "        A_prev = A\n",
    "        A, cache = linear_activation_forward(A_prev, parameters['W' + str(l)], parameters['b' + str(l)], \"relu\")\n",
    "        caches.append(cache)\n",
    "    \n",
    "    AL, cache = linear_activation_forward(A, parameters['W' + str(L)], parameters['b' + str(L)], \"sigmoid\")\n",
    "    caches.append(cache)\n",
    "\n",
    "    return AL, caches"
   ]
  },
  {
   "cell_type": "code",
   "execution_count": 109,
   "metadata": {},
   "outputs": [],
   "source": [
    "def cost_function(AL, Y):\n",
    "    m = Y.shape[1]\n",
    "    # element1 = np.multiply(Y, np.log(AL))\n",
    "    # element2 = np.multiply((1 - Y), np.log(1 - AL))\n",
    "    # cost = (-1 / m) * np.sum(element1 + element2)\n",
    "    cost = (1./m) * (-np.dot(Y, np.log(AL).T) - np.dot(1-Y, np.log(1-AL).T))\n",
    "    cost = np.squeeze(cost)\n",
    "\n",
    "    return cost"
   ]
  },
  {
   "cell_type": "code",
   "execution_count": 110,
   "metadata": {},
   "outputs": [],
   "source": [
    "def relu_backward(dA, activ_cache):\n",
    "    Z = activ_cache\n",
    "    dZ = np.array(dA, copy=True)\n",
    "    dZ[Z <= 0] = 0\n",
    "    \n",
    "    return dZ"
   ]
  },
  {
   "cell_type": "code",
   "execution_count": 111,
   "metadata": {},
   "outputs": [],
   "source": [
    "def sigmoid_backward(dA, activ_cache):\n",
    "    Z = activ_cache\n",
    "\n",
    "    x = 1 / (1 + np.exp(-Z))\n",
    "    dZ = dA * x * (1-x)\n",
    "\n",
    "    return dZ"
   ]
  },
  {
   "cell_type": "code",
   "execution_count": 112,
   "metadata": {},
   "outputs": [],
   "source": [
    "def linear_backward(dZ, cache):\n",
    "    A_prev, W, b = cache\n",
    "    m = A_prev.shape[1]\n",
    "    dW = (1 / m) * np.matmul(dZ, A_prev.T)\n",
    "    db = (1 / m) * np.sum(dZ, axis=1, keepdims=True)\n",
    "    dA_prev = np.matmul(W.T, dZ)\n",
    "    \n",
    "    return dA_prev, dW, db"
   ]
  },
  {
   "cell_type": "code",
   "execution_count": 113,
   "metadata": {},
   "outputs": [],
   "source": [
    "def linear_activation_backward(dA, cache, activation_function):\n",
    "    linear_cache, activ_cache = cache\n",
    "    if activation_function == \"relu\":\n",
    "        dZ = relu_backward(dA, activ_cache)\n",
    "        dA_prev, dW, db = linear_backward(dZ, linear_cache)\n",
    "    elif activation_function == \"sigmoid\":\n",
    "        dZ = sigmoid_backward(dA, activ_cache)\n",
    "        dA_prev, dW, db = linear_backward(dZ, linear_cache)\n",
    "\n",
    "    return dA_prev, dW, db"
   ]
  },
  {
   "cell_type": "code",
   "execution_count": 114,
   "metadata": {},
   "outputs": [],
   "source": [
    "def backward_propagation(AL, Y, caches):\n",
    "    gradients = {}\n",
    "    L = len(caches)\n",
    "    Y = Y.reshape(AL.shape)\n",
    "    dAL = - (np.divide(Y, AL) - np.divide(1 - Y, 1 - AL))\n",
    "    current_cache = caches[L-1]\n",
    "    dA_prev, dW, db = linear_activation_backward(dAL, current_cache, \"sigmoid\")\n",
    "    gradients['dA' + str(L-1)] = dA_prev\n",
    "    gradients['dW' + str(L)] = dW\n",
    "    gradients['db' + str(L)] = db\n",
    "\n",
    "    for l in reversed(range(L-1)):\n",
    "        current_cache = caches[l]\n",
    "        dA_prev, dW, db = linear_activation_backward(gradients['dA'+str(l+1)], current_cache, \"relu\")\n",
    "        gradients['dA' + str(l)] = dA_prev\n",
    "        gradients['dW' + str(l+1)] = dW\n",
    "        gradients['db' + str(l+1)] = db\n",
    "    \n",
    "    return gradients\n"
   ]
  },
  {
   "cell_type": "code",
   "execution_count": 115,
   "metadata": {},
   "outputs": [],
   "source": [
    "def update_parameters(parameters, gradients, learning_rate):\n",
    "    L = len(parameters) // 2\n",
    "    parameters = parameters.copy()\n",
    "    for l in range(L):\n",
    "        parameters['W'+str(l+1)] = parameters['W'+str(l+1)] - learning_rate * gradients['dW'+str(l+1)]\n",
    "        parameters['b'+str(l+1)] = parameters['b'+str(l+1)] - learning_rate * gradients['db'+str(l+1)]\n",
    "    return parameters"
   ]
  },
  {
   "cell_type": "code",
   "execution_count": 116,
   "metadata": {},
   "outputs": [],
   "source": [
    "def DNN_model(X, Y, layer_dims, learning_rate, num_iterations, print_cost):\n",
    "    \n",
    "    np.random.seed(2)\n",
    "    costs = []\n",
    "    parameters = initialize_parameters(layer_dims)\n",
    "    for i in range(0, num_iterations):\n",
    "        AL, caches = forward_propagation(X, parameters)\n",
    "        cost = cost_function(AL, Y)\n",
    "        gradients = backward_propagation(AL, Y, caches)\n",
    "        parameters = update_parameters(parameters, gradients, learning_rate)\n",
    "        if print_cost and i % 100 == 0 or i == num_iterations - 1:\n",
    "            print (f\"Cost after iteration {i}: {cost}\")\n",
    "        if print_cost and i % 100 == 0:\n",
    "            costs.append(cost)\n",
    "    \n",
    "    return parameters, costs"
   ]
  },
  {
   "cell_type": "code",
   "execution_count": 117,
   "metadata": {},
   "outputs": [
    {
     "name": "stdout",
     "output_type": "stream",
     "text": [
      "Cost after iteration 0: 0.6931600570480898\n",
      "Cost after iteration 100: 0.6928286349726216\n",
      "Cost after iteration 200: 0.6921005781191182\n",
      "Cost after iteration 300: 0.6901979714689298\n",
      "Cost after iteration 400: 0.6849790522459901\n",
      "Cost after iteration 500: 0.6711399042434865\n",
      "Cost after iteration 600: 0.6441204794155085\n",
      "Cost after iteration 700: 0.6401766394558479\n",
      "Cost after iteration 800: 0.6285203075067932\n",
      "Cost after iteration 900: 0.6149692023585595\n",
      "Cost after iteration 1000: 0.6033817827000728\n",
      "Cost after iteration 1100: 0.5923305209039623\n",
      "Cost after iteration 1200: 0.5814788801983484\n",
      "Cost after iteration 1300: 0.5713403384082029\n",
      "Cost after iteration 1400: 0.559629111562176\n",
      "Cost after iteration 1500: 0.5485886747518016\n",
      "Cost after iteration 1600: 0.539356328876021\n",
      "Cost after iteration 1700: 0.5283706265258268\n",
      "Cost after iteration 1800: 0.5169979156419371\n",
      "Cost after iteration 1900: 0.506655554422082\n",
      "Cost after iteration 2000: 0.4946311653144705\n",
      "Cost after iteration 2100: 0.4855561471635498\n",
      "Cost after iteration 2200: 0.4726929981984364\n",
      "Cost after iteration 2300: 0.4643991246331717\n",
      "Cost after iteration 2400: 0.4553344917024534\n",
      "Cost after iteration 2500: 0.4404413914929669\n",
      "Cost after iteration 2600: 0.42782090081026175\n",
      "Cost after iteration 2700: 0.41656897036004803\n",
      "Cost after iteration 2800: 0.39113088502874194\n",
      "Cost after iteration 2900: 0.39888928466181495\n",
      "Cost after iteration 2999: 0.3656526203337025\n"
     ]
    }
   ],
   "source": [
    "parameters, costs = DNN_model(train_set_x, train_set_y, LAYER_DIMS, learning_rate=0.015, num_iterations = 3500, print_cost = True)"
   ]
  },
  {
   "cell_type": "code",
   "execution_count": 118,
   "metadata": {},
   "outputs": [],
   "source": [
    "def predict(X, Y, parameters):\n",
    "    AL, caches = forward_propagation(X, parameters)\n",
    "    n = AL.shape[1]\n",
    "    predictions = np.zeros((1, n))\n",
    "\n",
    "    for i in range(1, n):\n",
    "        if AL[0, i] > 0.5:\n",
    "            predictions[0, i] = 1\n",
    "        else:\n",
    "            predictions[0, i] = 0\n",
    "    prediction_sum = np.sum((predictions == Y)/n)\n",
    "    print(f\"Accuracy: {str(prediction_sum)}\")"
   ]
  },
  {
   "cell_type": "code",
   "execution_count": 125,
   "metadata": {},
   "outputs": [
    {
     "name": "stdout",
     "output_type": "stream",
     "text": [
      "Accuracy: 0.8320000000000003\n"
     ]
    }
   ],
   "source": [
    "predictions_train = predict(train_set_x, train_set_y, parameters)"
   ]
  },
  {
   "cell_type": "code",
   "execution_count": 126,
   "metadata": {},
   "outputs": [
    {
     "name": "stdout",
     "output_type": "stream",
     "text": [
      "Accuracy: 0.7777777777777777\n"
     ]
    }
   ],
   "source": [
    "predictions_test = predict(test_set_x, test_set_y, parameters)"
   ]
  },
  {
   "cell_type": "code",
   "execution_count": 127,
   "metadata": {},
   "outputs": [
    {
     "data": {
      "image/png": "[encoded data removed]",
      "text/plain": [
       "<Figure size 500x400 with 1 Axes>"
      ]
     },
     "metadata": {},
     "output_type": "display_data"
    }
   ],
   "source": [
    "plt.plot(np.squeeze(costs))\n",
    "plt.xlabel('iterations (per hundreds)')\n",
    "plt.ylabel('cost')\n",
    "plt.title(\"Learning rate =\" + str(0.015))\n",
    "plt.show()"
   ]
  }
 ],
 "metadata": {
  "kernelspec": {
   "display_name": "Python 3",
   "language": "python",
   "name": "python3"
  },
  "language_info": {
   "codemirror_mode": {
    "name": "ipython",
    "version": 3
   },
   "file_extension": ".py",
   "mimetype": "text/x-python",
   "name": "python",
   "nbconvert_exporter": "python",
   "pygments_lexer": "ipython3",
   "version": "3.10.6"
  },
  "orig_nbformat": 4
 },
 "nbformat": 4,
 "nbformat_minor": 2
}
