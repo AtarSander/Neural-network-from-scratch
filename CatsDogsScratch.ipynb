{
 "cells": [
  {
   "cell_type": "code",
   "execution_count": 80,
   "metadata": {},
   "outputs": [],
   "source": [
    "import matplotlib.pyplot as plt\n",
    "import numpy as np\n",
    "import os\n",
    "import cv2\n",
    "NUM_PX = 64\n",
    "LAYER_DIMS = [12288, 5, 1] "
   ]
  },
  {
   "cell_type": "code",
   "execution_count": 50,
   "metadata": {},
   "outputs": [
    {
     "name": "stdout",
     "output_type": "stream",
     "text": [
      "The autoreload extension is already loaded. To reload it, use:\n",
      "  %reload_ext autoreload\n"
     ]
    }
   ],
   "source": [
    "%matplotlib inline\n",
    "plt.rcParams['figure.figsize'] = (5.0, 4.0) # set default size of plots\n",
    "plt.rcParams['image.interpolation'] = 'nearest'\n",
    "plt.rcParams['image.cmap'] = 'gray'\n",
    "\n",
    "%load_ext autoreload\n",
    "%autoreload 2\n"
   ]
  },
  {
   "cell_type": "code",
   "execution_count": 51,
   "metadata": {},
   "outputs": [],
   "source": [
    "def delete_zone_identifier(filenames, directory):\n",
    "    for filename in filenames:\n",
    "        try:\n",
    "            name = filename.split(\":\")[1]\n",
    "        except:\n",
    "            name = \"\"\n",
    "        if name == \"Zone.Identifier\":\n",
    "            os.remove(directory + \"/\" + filename)"
   ]
  },
  {
   "cell_type": "code",
   "execution_count": 52,
   "metadata": {},
   "outputs": [],
   "source": [
    "filenames_train = os.listdir(\"train/train\")\n",
    "delete_zone_identifier(filenames_train, \"train/train\")\n",
    "filenames_test = os.listdir(\"test1/test1\")\n",
    "delete_zone_identifier(filenames_test, \"test1/test1\")"
   ]
  },
  {
   "cell_type": "code",
   "execution_count": 53,
   "metadata": {},
   "outputs": [],
   "source": [
    "def preprocess_image(file_path, target_size):\n",
    "    image = cv2.imread(file_path)\n",
    "    image = cv2.resize(image, target_size)\n",
    "    image = np.array(image, dtype=np.float32)\n",
    "    image = image / 255.0\n",
    "    return image"
   ]
  },
  {
   "cell_type": "code",
   "execution_count": 54,
   "metadata": {},
   "outputs": [],
   "source": [
    "def parse_images(filenames, directory, limit_dogs, limit_cats):\n",
    "    for filename in filenames:\n",
    "        category = filename.split('.')[0]\n",
    "        if category == \"dog\":\n",
    "            limit_dogs -= 1\n",
    "            if limit_dogs < 0:\n",
    "                os.remove(directory + \"/\" + filename)\n",
    "        else:\n",
    "            limit_cats -= 1\n",
    "            if limit_cats < 0:\n",
    "                os.remove(directory + \"/\" + filename)"
   ]
  },
  {
   "cell_type": "code",
   "execution_count": 55,
   "metadata": {},
   "outputs": [],
   "source": [
    "filenames_train = os.listdir(\"train/train\")\n",
    "parse_images(filenames_train, \"train/train\", 500, 500)\n",
    "filenames_test = os.listdir(\"test1/test1\")\n",
    "parse_images(filenames_test, \"test1/test1\", 100, 100)"
   ]
  },
  {
   "cell_type": "code",
   "execution_count": 56,
   "metadata": {},
   "outputs": [],
   "source": [
    "def load_dataset(filenames):\n",
    "    images = []\n",
    "    labels = []\n",
    "    for filename in filenames:\n",
    "        image = preprocess_image(\"train/train/\" + filename, (64, 64))\n",
    "        images.append(image)\n",
    "        category = filename.split('.')[0]\n",
    "        if category == \"dog\":\n",
    "            labels.append(1)\n",
    "        else:\n",
    "            labels.append(0)\n",
    "    return np.array(images), np.array(labels)"
   ]
  },
  {
   "cell_type": "code",
   "execution_count": 57,
   "metadata": {},
   "outputs": [],
   "source": [
    "filenames = os.listdir(\"train/train\")\n",
    "train_set_x_orig, train_set_y = load_dataset(filenames_train)"
   ]
  },
  {
   "cell_type": "code",
   "execution_count": 58,
   "metadata": {},
   "outputs": [],
   "source": [
    "train_set_x = train_set_x_orig.reshape(train_set_x_orig.shape[0], -1).T\n",
    "train_set_y = train_set_y.reshape(1, train_set_y.shape[0])"
   ]
  },
  {
   "cell_type": "code",
   "execution_count": 59,
   "metadata": {},
   "outputs": [
    {
     "data": {
      "text/plain": [
       "((12288, 1000), (1, 1000))"
      ]
     },
     "execution_count": 59,
     "metadata": {},
     "output_type": "execute_result"
    }
   ],
   "source": [
    "train_set_x.shape, train_set_y.shape"
   ]
  },
  {
   "cell_type": "code",
   "execution_count": 60,
   "metadata": {},
   "outputs": [
    {
     "name": "stdout",
     "output_type": "stream",
     "text": [
      "[[0.16862746 0.827451   0.1882353  ... 0.93333334 0.22352941 0.2627451 ]\n",
      " [0.17254902 0.8509804  0.1882353  ... 0.9529412  0.32941177 0.36078432]\n",
      " [0.1882353  0.84705883 0.1882353  ... 0.9490196  0.4627451  0.5176471 ]\n",
      " ...\n",
      " [0.57254905 0.34117648 0.7254902  ... 0.9843137  0.54901963 0.28235295]\n",
      " [0.5254902  0.39607844 0.73333335 ... 1.         0.5764706  0.38039216]\n",
      " [0.49803922 0.41568628 0.73333335 ... 0.7058824  0.6509804  0.5529412 ]] [[1 0 0 0 0 0 0 1 1 1 1 0 0 0 1 1 1 1 1 1 0 0 1 1 0 1 0 1 1 1 1 0 1 1 0 0\n",
      "  1 0 0 0 0 0 0 0 0 0 1 1 1 1 0 1 0 1 1 0 0 0 0 0 1 0 0 1 1 0 1 0 0 0 0 1\n",
      "  1 0 1 0 0 1 1 1 1 1 0 1 1 0 1 1 0 0 1 0 1 0 1 1 1 1 0 1 0 1 1 1 0 1 1 1\n",
      "  1 1 1 1 1 1 0 1 0 0 1 1 1 0 0 0 0 0 1 0 0 0 0 1 0 0 0 1 0 0 1 0 1 1 0 1\n",
      "  1 0 0 0 1 1 0 0 1 1 1 1 1 0 1 0 0 1 0 0 1 1 0 0 0 0 1 0 1 0 1 1 1 1 1 0\n",
      "  0 0 1 1 0 1 0 0 1 0 0 1 0 1 1 1 0 0 1 0 1 0 0 1 0 1 0 1 0 0 0 1 1 1 1 1\n",
      "  0 1 0 1 1 1 1 0 0 0 1 0 0 0 0 0 0 1 1 0 0 1 0 0 1 0 0 0 0 1 1 1 0 0 0 0\n",
      "  0 1 0 0 0 0 0 1 1 1 1 0 1 0 0 1 1 0 0 1 1 0 1 1 1 0 0 1 0 0 1 0 1 1 1 1\n",
      "  0 1 0 0 1 1 0 0 1 1 0 1 0 0 1 1 0 1 0 0 0 0 0 1 1 0 1 1 1 0 0 0 1 0 0 0\n",
      "  1 0 0 0 1 0 1 0 0 1 1 1 1 0 1 0 1 0 1 0 0 0 1 1 0 1 0 1 0 1 0 1 0 1 0 0\n",
      "  0 0 1 1 1 1 0 1 1 0 1 0 1 0 0 1 0 1 1 0 1 1 0 1 1 0 0 1 1 1 0 1 1 1 1 1\n",
      "  1 1 0 0 0 0 0 1 1 1 1 1 1 0 0 1 0 1 0 1 0 1 0 0 0 0 1 0 0 0 1 0 0 1 1 1\n",
      "  1 1 1 1 0 1 1 1 0 0 1 1 1 0 0 0 1 0 0 1 0 0 0 1 1 0 0 1 0 1 1 0 1 0 0 0\n",
      "  0 1 1 1 0 1 0 0 0 1 1 0 0 1 1 0 1 0 1 0 0 1 0 1 0 0 1 0 0 1 0 0 0 0 0 1\n",
      "  1 1 0 0 1 1 1 0 0 0 1 1 1 1 0 0 0 0 0 1 1 1 0 0 0 1 1 0 1 1 1 0 1 1 0 0\n",
      "  0 1 1 0 1 0 1 1 1 0 0 1 0 0 0 0 1 1 0 0 1 1 1 1 1 0 1 0 1 0 0 1 0 1 0 0\n",
      "  0 1 0 1 1 0 1 1 0 1 0 0 0 0 0 0 1 0 0 0 0 0 0 0 0 0 1 1 1 1 1 0 0 1 0 1\n",
      "  1 1 1 0 1 1 1 1 0 1 1 0 1 0 0 1 1 1 0 0 1 0 0 0 1 1 1 0 0 1 1 0 1 0 1 1\n",
      "  1 1 0 1 1 1 1 0 0 1 0 0 1 1 0 1 0 0 1 0 0 1 0 0 1 1 0 1 0 1 1 0 0 0 0 0\n",
      "  1 1 1 0 1 0 1 1 0 1 0 1 1 1 1 1 0 0 0 0 1 0 0 0 0 1 0 0 1 1 1 0 1 0 1 0\n",
      "  1 0 1 0 1 1 1 1 0 1 1 0 0 1 0 1 0 0 1 1 0 0 1 0 0 0 1 1 1 0 1 0 1 1 1 1\n",
      "  0 0 1 1 0 0 1 1 1 0 0 1 0 0 0 0 0 0 1 1 0 1 1 1 1 0 1 1 1 1 0 0 0 0 1 1\n",
      "  1 1 0 1 1 1 0 0 0 1 0 1 1 0 0 1 1 0 1 0 0 1 0 0 0 0 1 0 1 0 0 0 1 1 0 1\n",
      "  0 1 0 0 0 0 1 0 0 1 1 1 1 0 1 1 1 0 0 1 0 0 0 1 0 1 0 0 1 1 0 1 0 1 1 1\n",
      "  0 1 1 1 0 1 1 1 0 1 0 0 0 1 1 0 1 0 0 1 1 0 1 0 0 0 0 0 0 1 1 0 0 0 1 1\n",
      "  1 0 1 1 1 0 0 1 1 0 1 0 0 1 1 0 0 0 0 1 1 0 1 0 1 0 1 0 0 1 1 1 1 1 1 0\n",
      "  1 0 1 1 0 1 1 0 1 1 1 1 1 0 0 1 0 1 0 0 0 0 1 1 0 0 0 0 1 1 1 0 1 0 0 1\n",
      "  0 0 1 0 0 1 0 1 1 0 0 1 0 1 0 1 1 0 0 1 0 0 1 1 0 1 1 0]]\n"
     ]
    }
   ],
   "source": [
    "print(train_set_x, train_set_y)"
   ]
  },
  {
   "cell_type": "code",
   "execution_count": 61,
   "metadata": {},
   "outputs": [],
   "source": [
    "def initialize_parameters(layer_dims):\n",
    "    np.random.seed(2)\n",
    "    parameters = {}\n",
    "    L = len(layer_dims)\n",
    "\n",
    "    for l in range(1, L):\n",
    "        parameters['W' + str(l)] = np.random.randn(layer_dims[l], layer_dims[l-1]) * 0.01\n",
    "        parameters['b' + str(l)] = np.zeros((layer_dims[l], 1))\n",
    "        \n",
    "    return parameters"
   ]
  },
  {
   "cell_type": "code",
   "execution_count": 62,
   "metadata": {},
   "outputs": [
    {
     "name": "stdout",
     "output_type": "stream",
     "text": [
      "{'W1': array([[-0.00416758, -0.00056267, -0.02136196, ..., -0.01275513,\n",
      "         0.00733372,  0.01166127],\n",
      "       [ 0.00016076,  0.00699494, -0.02144254, ..., -0.00569705,\n",
      "        -0.00276633,  0.0011016 ],\n",
      "       [-0.00553107,  0.00678748, -0.00870469, ...,  0.00174631,\n",
      "         0.00395599, -0.00136441],\n",
      "       ...,\n",
      "       [ 0.00137381,  0.00531559, -0.00411322, ...,  0.00274936,\n",
      "         0.02391327, -0.00872727],\n",
      "       [-0.01886398, -0.00101521,  0.00443469, ...,  0.00105953,\n",
      "         0.0073419 ,  0.00461946],\n",
      "       [-0.01062171, -0.00365029, -0.00166228, ...,  0.00578868,\n",
      "        -0.00498871, -0.00829043]]), 'b1': array([[0.],\n",
      "       [0.],\n",
      "       [0.],\n",
      "       [0.],\n",
      "       [0.],\n",
      "       [0.],\n",
      "       [0.],\n",
      "       [0.],\n",
      "       [0.],\n",
      "       [0.]]), 'W2': array([[ 0.00102192,  0.00040951, -0.01263179, -0.00295767,  0.00418341,\n",
      "         0.00043563, -0.00196525,  0.00336217, -0.00209281, -0.00598241]]), 'b2': array([[0.]])}\n"
     ]
    }
   ],
   "source": [
    "parameters = initialize_parameters(LAYER_DIMS)\n",
    "print(parameters)"
   ]
  },
  {
   "cell_type": "code",
   "execution_count": 63,
   "metadata": {},
   "outputs": [],
   "source": [
    "def RELU(Z):\n",
    "    cache = Z\n",
    "    A = np.maximum(0, Z)\n",
    "    return A, cache"
   ]
  },
  {
   "cell_type": "code",
   "execution_count": 64,
   "metadata": {},
   "outputs": [],
   "source": [
    "def sigmoid(Z):\n",
    "    cache = Z\n",
    "    A = 1 / (1 + np.exp(-Z))\n",
    "    return A, cache"
   ]
  },
  {
   "cell_type": "code",
   "execution_count": 65,
   "metadata": {},
   "outputs": [],
   "source": [
    "def linear_forward(A, W, b):\n",
    "    Z = np.matmul(W, A) + b\n",
    "    cache = (A, W, b)\n",
    "    return Z, cache"
   ]
  },
  {
   "cell_type": "code",
   "execution_count": 66,
   "metadata": {},
   "outputs": [],
   "source": [
    "def linear_activation_forward(prev_A, W, b, activ_funct):\n",
    "    if activ_funct == \"relu\":\n",
    "        Z, linear_cache = linear_forward(prev_A, W, b)\n",
    "        A, activation_cache = RELU(Z)\n",
    "\n",
    "    elif activ_funct == \"sigmoid\":\n",
    "        Z, linear_cache = linear_forward(prev_A, W, b)\n",
    "        A, activation_cache = sigmoid(Z)\n",
    "    cache = (linear_cache, activation_cache)\n",
    "    \n",
    "    return A, cache"
   ]
  },
  {
   "cell_type": "code",
   "execution_count": 67,
   "metadata": {},
   "outputs": [],
   "source": [
    "def forward_propagation(X, parameters):\n",
    "    caches = []\n",
    "    L = len(parameters) //2\n",
    "    A = X\n",
    "\n",
    "    for l in range(1, L):\n",
    "        A_prev = A\n",
    "        A, cache = linear_activation_forward(A_prev, parameters['W'+str(l)], parameters['b'+str(l)], \"relu\")\n",
    "        caches.append(cache)\n",
    "    \n",
    "    AL, cache = linear_activation_forward(A, parameters['W'+str(L)], parameters['b'+str(L)], \"sigmoid\")\n",
    "    caches.append(cache)\n",
    "\n",
    "    return AL, caches"
   ]
  },
  {
   "cell_type": "code",
   "execution_count": 68,
   "metadata": {},
   "outputs": [],
   "source": [
    "def cost_function(AL, Y):\n",
    "    m = Y.shape[1]\n",
    "    # element1 = np.multiply(Y, np.log(AL))\n",
    "    # element2 = np.multiply((1 - Y), np.log(1 - AL))\n",
    "    # cost = (-1 / m) * np.sum(element1 + element2)\n",
    "    cost = (1./m) * (-np.dot(Y,np.log(AL).T) - np.dot(1-Y, np.log(1-AL).T))\n",
    "    cost = np.squeeze(cost)\n",
    "\n",
    "    return cost"
   ]
  },
  {
   "cell_type": "code",
   "execution_count": 69,
   "metadata": {},
   "outputs": [],
   "source": [
    "def RELU_backward(dA, activ_cache):\n",
    "    Z = activ_cache\n",
    "    dZ = np.array(dA, copy=True)\n",
    "    dZ[Z <= 0] = 0\n",
    "    \n",
    "    return dZ"
   ]
  },
  {
   "cell_type": "code",
   "execution_count": 70,
   "metadata": {},
   "outputs": [],
   "source": [
    "def sigmoid_backward(dA, activ_cache):\n",
    "    Z = activ_cache\n",
    "\n",
    "    x = 1 / (1 + np.exp(-Z))\n",
    "    dZ = dA * x * (1-x)\n",
    "\n",
    "    return dZ"
   ]
  },
  {
   "cell_type": "code",
   "execution_count": 71,
   "metadata": {},
   "outputs": [],
   "source": [
    "def linear_backward(dZ, cache):\n",
    "    A_prev, W, b = cache\n",
    "    m = A_prev.shape[1]\n",
    "    dW = (1 / m) * np.matmul(dZ, A_prev.T)\n",
    "    db = (1 / m) * np.sum(dZ, axis=1, keepdims=True)\n",
    "    dA_prev = np.matmul(W.T, dZ)\n",
    "    \n",
    "    return dA_prev, dW, db"
   ]
  },
  {
   "cell_type": "code",
   "execution_count": 72,
   "metadata": {},
   "outputs": [],
   "source": [
    "def linear_activation_backward(dA, cache, activ_funct):\n",
    "    linear_cache, activ_cache = cache\n",
    "    if activ_funct == \"relu\":\n",
    "        dZ = RELU_backward(dA, activ_cache)\n",
    "        dA_prev, dW, db = linear_backward(dZ, linear_cache)\n",
    "    elif activ_funct == \"sigmoid\":\n",
    "        dZ = sigmoid_backward(dA, activ_cache)\n",
    "        dA_prev, dW, db = linear_backward(dZ, linear_cache)\n",
    "\n",
    "    return dA_prev, dW, db"
   ]
  },
  {
   "cell_type": "code",
   "execution_count": 73,
   "metadata": {},
   "outputs": [],
   "source": [
    "def backward_propagation(AL, Y, caches):\n",
    "    gradients = {}\n",
    "    L = len(caches)\n",
    "    Y = Y.reshape(AL.shape)\n",
    "    dAL = - (np.divide(Y, AL) - np.divide(1 - Y, 1 - AL))\n",
    "    current_cache = caches[L-1]\n",
    "    dA_prev, dW, db = linear_activation_backward(dAL, current_cache, \"sigmoid\")\n",
    "    gradients['dA'+str(L-1)] = dA_prev\n",
    "    gradients['dW'+str(L)] = dW\n",
    "    gradients['db'+str(L)] = db\n",
    "\n",
    "    for l in reversed(range(L-1)):\n",
    "        current_cache = caches[l]\n",
    "        dA_prev, dW, db = linear_activation_backward(gradients['dA'+str(l+1)], current_cache, \"relu\")\n",
    "        gradients['dA'+str(l)] = dA_prev\n",
    "        gradients['dW'+str(l+1)] = dW\n",
    "        gradients['db'+str(l+1)] = db\n",
    "    \n",
    "    return gradients\n"
   ]
  },
  {
   "cell_type": "code",
   "execution_count": 74,
   "metadata": {},
   "outputs": [],
   "source": [
    "def update_parameters(parameters, gradients, learning_rate):\n",
    "    L = len(parameters) // 2\n",
    "    parameters = parameters.copy()\n",
    "    for l in range(L):\n",
    "        parameters['W'+str(l+1)] = parameters['W'+str(l+1)] - learning_rate * gradients['dW'+str(l+1)]\n",
    "        parameters['b'+str(l+1)] = parameters['b'+str(l+1)] - learning_rate * gradients['db'+str(l+1)]\n",
    "    return parameters"
   ]
  },
  {
   "cell_type": "code",
   "execution_count": 77,
   "metadata": {},
   "outputs": [],
   "source": [
    "def DNN_model(X, Y, layer_dims, learning_rate, num_iterations, print_cost):\n",
    "    \n",
    "    np.random.seed(2)\n",
    "    costs = []\n",
    "    parameters = initialize_parameters(layer_dims)\n",
    "    for i in range(0, num_iterations):\n",
    "        AL, caches = forward_propagation(X, parameters)\n",
    "        cost = cost_function(AL, Y)\n",
    "        gradients = backward_propagation(AL, Y, caches)\n",
    "        parameters = update_parameters(parameters, gradients, learning_rate)\n",
    "        if print_cost and i % 100 == 0 or i == num_iterations - 1:\n",
    "            print (f\"Cost after iteration {i}: {cost}\")\n",
    "        if print_cost and i % 100 == 0:\n",
    "            costs.append(cost)\n",
    "    \n",
    "    return parameters, costs"
   ]
  },
  {
   "cell_type": "code",
   "execution_count": 82,
   "metadata": {},
   "outputs": [
    {
     "name": "stdout",
     "output_type": "stream",
     "text": [
      "Cost after iteration 0: 0.6932318084914451\n",
      "Cost after iteration 100: 0.6928822520427091\n",
      "Cost after iteration 200: 0.6915789541813728\n",
      "Cost after iteration 300: 0.6861204932061763\n",
      "Cost after iteration 400: 0.6688406144822115\n",
      "Cost after iteration 500: 0.6452096357449842\n",
      "Cost after iteration 600: 0.6392138436946139\n",
      "Cost after iteration 700: 0.6240687515294746\n",
      "Cost after iteration 800: 0.6170524172878054\n",
      "Cost after iteration 900: 0.6100606055547391\n",
      "Cost after iteration 1000: 0.5963982479781317\n",
      "Cost after iteration 1100: 0.5889446837268478\n",
      "Cost after iteration 1200: 0.5808302959841678\n",
      "Cost after iteration 1300: 0.5711525928757509\n",
      "Cost after iteration 1400: 0.5680644440647212\n",
      "Cost after iteration 1500: 0.5275917785009744\n",
      "Cost after iteration 1600: 0.5392010811727852\n",
      "Cost after iteration 1700: 0.5418716605731323\n",
      "Cost after iteration 1800: 0.4837432797888942\n",
      "Cost after iteration 1900: 0.5480520361339802\n",
      "Cost after iteration 2000: 0.5194555835940085\n",
      "Cost after iteration 2100: 0.4567357805975715\n",
      "Cost after iteration 2200: 0.5283262348345449\n",
      "Cost after iteration 2300: 0.5151119688600089\n",
      "Cost after iteration 2400: 0.38497947391576487\n",
      "Cost after iteration 2499: 0.5710659174273507\n"
     ]
    }
   ],
   "source": [
    "parameters, costs = DNN_model(train_set_x, train_set_y, LAYER_DIMS, learning_rate=0.03, num_iterations = 2500, print_cost = True)"
   ]
  }
 ],
 "metadata": {
  "kernelspec": {
   "display_name": "Python 3",
   "language": "python",
   "name": "python3"
  },
  "language_info": {
   "codemirror_mode": {
    "name": "ipython",
    "version": 3
   },
   "file_extension": ".py",
   "mimetype": "text/x-python",
   "name": "python",
   "nbconvert_exporter": "python",
   "pygments_lexer": "ipython3",
   "version": "3.10.6"
  },
  "orig_nbformat": 4
 },
 "nbformat": 4,
 "nbformat_minor": 2
}
