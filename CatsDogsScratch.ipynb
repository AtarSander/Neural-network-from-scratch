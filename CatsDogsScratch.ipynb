{
 "cells": [
  {
   "cell_type": "code",
   "execution_count": 74,
   "metadata": {},
   "outputs": [],
   "source": [
    "import matplotlib.pyplot as plt\n",
    "import numpy as np\n",
    "import pandas as pd \n",
    "import os\n",
    "from PIL import Image"
   ]
  },
  {
   "cell_type": "code",
   "execution_count": 75,
   "metadata": {},
   "outputs": [
    {
     "name": "stdout",
     "output_type": "stream",
     "text": [
      "The autoreload extension is already loaded. To reload it, use:\n",
      "  %reload_ext autoreload\n"
     ]
    }
   ],
   "source": [
    "%matplotlib inline\n",
    "plt.rcParams['figure.figsize'] = (5.0, 4.0) # set default size of plots\n",
    "plt.rcParams['image.interpolation'] = 'nearest'\n",
    "plt.rcParams['image.cmap'] = 'gray'\n",
    "\n",
    "%load_ext autoreload\n",
    "%autoreload 2\n",
    "\n",
    "np.random.seed(1)"
   ]
  },
  {
   "cell_type": "code",
   "execution_count": 76,
   "metadata": {},
   "outputs": [],
   "source": [
    "def delete_zone_identifier(filenames, directory):\n",
    "    for filename in filenames:\n",
    "        try:\n",
    "            name = filename.split(\":\")[1]\n",
    "        except:\n",
    "            name = \"\"\n",
    "        if name == \"Zone.Identifier\":\n",
    "            os.remove(directory + \"/\" + filename)"
   ]
  },
  {
   "cell_type": "code",
   "execution_count": 77,
   "metadata": {},
   "outputs": [],
   "source": [
    "filenames_train = os.listdir(\"train/train\")\n",
    "delete_zone_identifier(filenames_train, \"train/train\")\n",
    "filenames_test = os.listdir(\"test1/test1\")\n",
    "delete_zone_identifier(filenames_test, \"test1/test1\")"
   ]
  },
  {
   "cell_type": "code",
   "execution_count": 78,
   "metadata": {},
   "outputs": [],
   "source": [
    "def preprocess_image(file_path, target_size):\n",
    "    image = Image.open(file_path)\n",
    "    image = image.convert('RGB')\n",
    "    image = image.resize(target_size)\n",
    "    image = np.array(image, dtype=\"float32\") / 255.0\n",
    "    return image"
   ]
  },
  {
   "cell_type": "code",
   "execution_count": 79,
   "metadata": {},
   "outputs": [],
   "source": [
    "def parse_images(filenames, directory, limit_dogs, limit_cats):\n",
    "    for filename in filenames:\n",
    "        category = filename.split('.')[0]\n",
    "        if category == \"dog\":\n",
    "            limit_dogs -= 1\n",
    "            if limit_dogs < 0:\n",
    "                os.remove(directory + \"/\" + filename)\n",
    "        else:\n",
    "            limit_cats -= 1\n",
    "            if limit_cats < 0:\n",
    "                os.remove(directory + \"/\" + filename)"
   ]
  },
  {
   "cell_type": "code",
   "execution_count": 80,
   "metadata": {},
   "outputs": [],
   "source": [
    "filenames_train = os.listdir(\"train/train\")\n",
    "parse_images(filenames_train, \"train/train\", 500, 500)\n",
    "filenames_test = os.listdir(\"test1/test1\")\n",
    "parse_images(filenames_test, \"test1/test1\", 100, 100)"
   ]
  },
  {
   "cell_type": "code",
   "execution_count": 81,
   "metadata": {},
   "outputs": [],
   "source": [
    "def load_dataset(filenames):\n",
    "    images = []\n",
    "    labels = []\n",
    "    for filename in filenames:\n",
    "        image = preprocess_image(\"train/train/\" + filename, (64, 64))\n",
    "        images.append(image)\n",
    "        category = filename.split('.')[0]\n",
    "        if category == \"dog\":\n",
    "            labels.append(1)\n",
    "        else:\n",
    "            labels.append(0)\n",
    "    return np.array(images), np.array(labels)"
   ]
  },
  {
   "cell_type": "code",
   "execution_count": 82,
   "metadata": {},
   "outputs": [],
   "source": [
    "filenames = os.listdir(\"train/train\")\n",
    "train_set_x_orig, train_set_y = load_dataset(filenames_train)"
   ]
  },
  {
   "cell_type": "code",
   "execution_count": 83,
   "metadata": {},
   "outputs": [],
   "source": [
    "train_set_x = train_set_x_orig.reshape(train_set_x_orig.shape[0], -1).T\n",
    "train_set_y = train_set_y.reshape(1, train_set_y.shape[0])"
   ]
  },
  {
   "cell_type": "code",
   "execution_count": 84,
   "metadata": {},
   "outputs": [
    {
     "data": {
      "text/plain": [
       "((12288, 1000), (1, 1000))"
      ]
     },
     "execution_count": 84,
     "metadata": {},
     "output_type": "execute_result"
    }
   ],
   "source": [
    "train_set_x.shape, train_set_y.shape"
   ]
  },
  {
   "cell_type": "code",
   "execution_count": 86,
   "metadata": {},
   "outputs": [],
   "source": [
    "LAYER_DIMS = [7, 5, 3]"
   ]
  },
  {
   "cell_type": "code",
   "execution_count": 88,
   "metadata": {},
   "outputs": [],
   "source": [
    "def initialize_parameters(layer_dims):\n",
    "    parameters = {}\n",
    "    L = len(layer_dims)\n",
    "    for l in range(1, L):\n",
    "        parameters['W' + str(l)] = np.random.randn(layer_dims[l], layer_dims[l-1]) * 0.01\n",
    "        parameters['b' + str(l)] = np.zeros((layer_dims[l], 1))\n",
    "    return parameters"
   ]
  },
  {
   "cell_type": "code",
   "execution_count": 89,
   "metadata": {},
   "outputs": [
    {
     "name": "stdout",
     "output_type": "stream",
     "text": [
      "{'W1': array([[-0.00012665, -0.0111731 ,  0.00234416,  0.01659802,  0.00742044,\n",
      "        -0.00191836, -0.00887629],\n",
      "       [-0.00747158,  0.01692455,  0.00050808, -0.00636996,  0.00190915,\n",
      "         0.02100255,  0.00120159],\n",
      "       [ 0.00617203,  0.0030017 , -0.0035225 , -0.01142518, -0.00349343,\n",
      "        -0.00208894,  0.00586623],\n",
      "       [ 0.00838983,  0.00931102,  0.00285587,  0.00885141, -0.00754398,\n",
      "         0.01252868,  0.0051293 ],\n",
      "       [-0.00298093,  0.00488518, -0.00075572,  0.01131629,  0.01519817,\n",
      "         0.02185575, -0.01396496]]), 'b1': array([[0.],\n",
      "       [0.],\n",
      "       [0.],\n",
      "       [0.],\n",
      "       [0.]]), 'W2': array([[-0.01444114, -0.00504466,  0.00160037,  0.00876169,  0.00315635],\n",
      "       [-0.02022201, -0.00306204,  0.00827975,  0.00230095,  0.00762011],\n",
      "       [-0.00222328, -0.00200758,  0.00186561,  0.00410052,  0.001983  ]]), 'b2': array([[0.],\n",
      "       [0.],\n",
      "       [0.]])}\n"
     ]
    }
   ],
   "source": [
    "parameters = initialize_parameters(LAYER_DIMS)\n",
    "print(parameters)"
   ]
  },
  {
   "cell_type": "code",
   "execution_count": 106,
   "metadata": {},
   "outputs": [],
   "source": [
    "def RELU(Z):\n",
    "    cache = Z\n",
    "    A = np.maximum(Z, 0)\n",
    "    return A, cache"
   ]
  },
  {
   "cell_type": "code",
   "execution_count": 107,
   "metadata": {},
   "outputs": [],
   "source": [
    "def sigmoid(Z):\n",
    "    cache = Z\n",
    "    A = 1 / (1 + np.exp(-A))\n",
    "    return A, cache"
   ]
  },
  {
   "cell_type": "code",
   "execution_count": 100,
   "metadata": {},
   "outputs": [],
   "source": [
    "def linear_forward(A, W, b):\n",
    "    Z = np.matmul(A, W) + b\n",
    "    cache = (A, W, b)\n",
    "    return Z, cache"
   ]
  },
  {
   "cell_type": "code",
   "execution_count": 102,
   "metadata": {},
   "outputs": [],
   "source": [
    "def linear_activation_forward(prev_A, W, b, activ_funct):\n",
    "    if activ_funct == \"RELU\":\n",
    "        Z, linear_cache = linear_forward(prev_A, W, b)\n",
    "        A, activation_cache = RELU(Z)\n",
    "\n",
    "    elif activ_funct == \"sigmoid\":\n",
    "        Z, linear_cache = linear_forward(prev_A, W, b)\n",
    "        A, activation_cache = sigmoid(Z)\n",
    "    cache = (linear_cache, activation_cache)\n",
    "    \n",
    "    return A, cache"
   ]
  },
  {
   "cell_type": "code",
   "execution_count": 105,
   "metadata": {},
   "outputs": [],
   "source": [
    "def forward_propagation(X, parameters):\n",
    "    caches = []\n",
    "    L = len(parameters) //2\n",
    "    A_prev = X\n",
    "\n",
    "    for l in range(1, L):\n",
    "        A_prev = A\n",
    "        A, cache = linear_activation_forward(A_prev, parameters['W'+str(l)], parameters['b'+str(l)], \"RELU\")\n",
    "        caches.append(cache)\n",
    "    \n",
    "    AL, cache = linear_activation_forward(A, parameters['W'+str(L)], parameters['b'+str(L)], \"sigmoid\")\n",
    "    caches.append(cache)\n",
    "\n",
    "    return AL, caches"
   ]
  },
  {
   "cell_type": "code",
   "execution_count": 104,
   "metadata": {},
   "outputs": [],
   "source": [
    "def cost_function(AL, Y):\n",
    "    m = Y.shape[1]\n",
    "    element1 = np.multiply(Y, np.log(AL))\n",
    "    element2 = np.multiply((1 - Y), np.log(1 - AL))\n",
    "    cost = (-1 / m) * np.sum(element1, element2)\n",
    "\n",
    "    cost = np.squeeze(cost)\n",
    "\n",
    "    return cost"
   ]
  },
  {
   "cell_type": "code",
   "execution_count": 108,
   "metadata": {},
   "outputs": [],
   "source": [
    "def RELU_backward(dA, activ_cache):\n",
    "    Z = activ_cache\n",
    "    dZ = np.array(dA, copy=True)\n",
    "\n",
    "    if  Z <= 0:\n",
    "        dZ =0\n",
    "    return dZ"
   ]
  },
  {
   "cell_type": "code",
   "execution_count": 109,
   "metadata": {},
   "outputs": [],
   "source": [
    "def sigmoid_backward(dA, activ_cache):\n",
    "    Z = activ_cache\n",
    "\n",
    "    x = 1 / (1 + np.exp(-Z))\n",
    "    dZ = dA * x * (1-x)\n",
    "\n",
    "    return dZ"
   ]
  },
  {
   "cell_type": "code",
   "execution_count": 111,
   "metadata": {},
   "outputs": [],
   "source": [
    "def linear_backward(dZ, cache):\n",
    "    A_prev, W, b = cache\n",
    "    m = A_prev.shape[1]\n",
    "    dW = (1 / m) * np.matmul(dZ, A_prev)\n",
    "    db = (1 / m) * np.sum(dZ, axis=1, keepdims=True)\n",
    "    dA_prev = np.matmul(W, dZ)\n",
    "\n",
    "    return dA_prev, dW, db"
   ]
  },
  {
   "cell_type": "code",
   "execution_count": 112,
   "metadata": {},
   "outputs": [],
   "source": [
    "def linear_activation_backward(dA, cache, activ_funct):\n",
    "    linear_cache, activ_cache = cache\n",
    "    if activ_funct == \"relu\":\n",
    "        dZ = RELU_backward(dA, activ_cache)\n",
    "    elif activ_funct == \"sigmoid\":\n",
    "        dZ = sigmoid_backward(dA, activ_cache)\n",
    "    dA_prev, dW, db = linear_backward(dZ, linear_cache)\n",
    "\n",
    "    return dA_prev, dW, db"
   ]
  },
  {
   "cell_type": "code",
   "execution_count": null,
   "metadata": {},
   "outputs": [],
   "source": []
  }
 ],
 "metadata": {
  "kernelspec": {
   "display_name": "Python 3",
   "language": "python",
   "name": "python3"
  },
  "language_info": {
   "codemirror_mode": {
    "name": "ipython",
    "version": 3
   },
   "file_extension": ".py",
   "mimetype": "text/x-python",
   "name": "python",
   "nbconvert_exporter": "python",
   "pygments_lexer": "ipython3",
   "version": "3.10.6"
  },
  "orig_nbformat": 4
 },
 "nbformat": 4,
 "nbformat_minor": 2
}
